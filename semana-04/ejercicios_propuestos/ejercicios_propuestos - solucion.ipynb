{
 "cells": [
  {
   "cell_type": "markdown",
   "metadata": {
    "colab_type": "text",
    "id": "cX64GGVNtdx2"
   },
   "source": [
    "<p>\n",
    "<font size='5' face='Georgia, Arial'>IIC-2233 Apunte Programación Avanzada</font><br>\n",
    "<font size='1'> Ejercicios creados a partir de 2019-2 por Equipo Docente IIC2233. </font>\n",
    "<font size='1'> Actualizados en 2020-1.</font>\n",
    "</p>\n",
    "\n",
    "\n",
    "# Ejercicios propuestos: Excepciones"
   ]
  },
  {
   "cell_type": "markdown",
   "metadata": {
    "colab_type": "text",
    "id": "urwU7L6Ftdx3"
   },
   "source": [
    "Los siguientes problemas se proveen como oportunidad de ejercitar los conceptos revisados en el material de **Excepciones**. Si tienes dudas sobre algún problema o alguna solución, no dudes en dejar una *issue* en el [foro del curso](https://github.com/IIC2233/syllabus/issues).\n",
    "\n",
    "Los ejercicios se subdividen según la numeración de los cuadernos de la semana. Algunos de ellos se referencian desde los cuadernos de material mismo, mientras que pueden haber otros adicionales para mayor ejercitación."
   ]
  },
  {
   "cell_type": "markdown",
   "metadata": {
    "colab_type": "text",
    "id": "jxqosRrbtdx4"
   },
   "source": [
    "## Excepciones"
   ]
  },
  {
   "cell_type": "markdown",
   "metadata": {
    "colab_type": "text",
    "id": "AXPY7WLttdx5"
   },
   "source": [
    "### Ejercicio 1.1: Menú simple sin manejo de excepciones"
   ]
  },
  {
   "cell_type": "markdown",
   "metadata": {
    "colab_type": "text",
    "id": "muSkak9mtdx5"
   },
   "source": [
    "¿A quién no le ha pasado que cuando le pedimos un número al usuario, nos entrega un *string*? ¿O que el número ingresado no estaba dentro del rango pedido? Siempre que solicitamos información a un usuario, debemos encargarnos de validarla antes de poder hacer algo útil con ella.\n",
    "\n",
    "A continuación se muestra un menú que a primera vista puede parecer correcto, pero no valida ningún *input* del usuario, por lo que es propenso a fallar si este no es lo suficientemente cuidadoso. Intenta analizar el código y reconocer los lugares en donde este puede lanzar excepciones. Te invitamos a probar el código y darle *inputs* inesperados para hacerlo fallar de todas las maneras posibles :)"
   ]
  },
  {
   "cell_type": "code",
   "execution_count": null,
   "metadata": {},
   "outputs": [],
   "source": [
    "import random\n",
    "\n",
    "\n",
    "diccionario_pokemon = {\n",
    "    \"Charmander\": random.randint(1, 16),\n",
    "    \"Wartortle\": random.randint(17, 35),\n",
    "    \"Venusaur\": random.randint(33, 50),\n",
    "}\n",
    "\n",
    "opciones_menu = [\n",
    "    \"Salir\",\n",
    "    \"Elegir Pokémon inicial\",\n",
    "    \"Subir nivel a Pokémon\",\n",
    "]\n",
    "\n",
    "salir = False\n",
    "pokemon_inicial = None\n",
    "nivel_pokemon = None\n",
    "while not salir:\n",
    "\n",
    "    print()\n",
    "    # Aquí se imprimen las opciones del menú y se pide una selección\n",
    "    for i in range(len(opciones_menu)):\n",
    "        print(f\"[{i+1}] {opciones_menu[i]}\")\n",
    "    numero_opcion = int(input(\"Ingresa una opción: \"))\n",
    "    opcion = opciones_menu[numero_opcion - 1]\n",
    "    print()\n",
    "\n",
    "    if opcion == \"Salir\":\n",
    "        # Si el usuario quiere salir, terminamos el loop\n",
    "        print(\"¡Saliendo del menú!\")\n",
    "        salir = True\n",
    "\n",
    "    elif opcion == \"Elegir Pokémon inicial\":\n",
    "        # Si quiere elegir Pokémon, le damos las opciones\n",
    "        print(f\"Elige entre: {' / '.join(diccionario_pokemon.keys())}\")\n",
    "        pokemon_inicial = input(\"Nombre de tu Pokémon inicial: \")\n",
    "        print((f\"Tu Pokémon inicial es {pokemon_inicial}, \"\n",
    "               f\"con nivel inicial {diccionario_pokemon[pokemon_inicial]}\"))\n",
    "        nivel_pokemon = diccionario_pokemon[pokemon_inicial]\n",
    "\n",
    "    elif opcion == \"Subir nivel a Pokémon\":\n",
    "        # Si quiere subir de nivel a su Pokémon, preguntemos cuántos\n",
    "        print(f\"Agrega un numero entero de niveles a tu Pokémon\")\n",
    "        niveles = input(\"Niveles a agregar: \")\n",
    "        if niveles.isdigit():\n",
    "            niveles = int(niveles)\n",
    "        print((f\"Tu {pokemon_inicial} subirá desde el nivel \"\n",
    "               f\"{nivel_pokemon} a {nivel_pokemon + niveles}\"))\n",
    "        nivel_pokemon += niveles\n",
    "\n",
    "# Algunas excepciones que deberías poder encontrar:\n",
    "# * ?: al entregar un valor no numérico en la selección de menú\n",
    "# * ?: al entregar un número de opción que no está en el menú\n",
    "# * ?: al subir de nivel antes de tener un Pokémon\n",
    "# * ?: al seleccionar un Pokémon que no está en la lista\n",
    "# * ?: al entregar un número no entero de niveles a subir\n"
   ]
  },
  {
   "cell_type": "markdown",
   "metadata": {
    "colab_type": "text",
    "id": "722NnbA9tdyF"
   },
   "source": [
    "## Levantamiento y manejo de excepciones"
   ]
  },
  {
   "cell_type": "markdown",
   "metadata": {
    "colab_type": "text",
    "id": "XlSPMQvetdyI"
   },
   "source": [
    "### Ejercicio 2.1: `Levantamiento de exepciones`"
   ]
  },
  {
   "cell_type": "markdown",
   "metadata": {},
   "source": [
    "En este ejercicio te invitamos a hacer dos cosas. En la primera parte, solo deberás usar `raise` para lanzar las excepciones que correspondan y que el código falle con los mensajes solicitados. En la segunda parte, deberás agregar `try` y `except` al código que hiciste en la primera parte, para que el código muestre los mensajes solicitados pero sin fallar."
   ]
  },
  {
   "cell_type": "markdown",
   "metadata": {
    "colab_type": "text",
    "id": "eisPk4lK7GNh"
   },
   "source": [
    "**a)** Se te entrega la funcion `fraccion`, la cual recibe dos números: `x` e `y`. Debes revisar que los números sean números enteros y que la fracción no tenga un divisor 0. Ambos errores debes levantarlos con el tipo correspondiente usando el comando `raise`. De esta forma, tu código debería incluir con dos `raise` y funcionar en caso de que el *input* sea correcto."
   ]
  },
  {
   "cell_type": "code",
   "execution_count": null,
   "metadata": {
    "colab": {},
    "colab_type": "code",
    "id": "wltJzEUI7GNi"
   },
   "outputs": [],
   "source": [
    "def fraccion(x, y):\n",
    "    # Recuerda utilizar 'raise'\n",
    "    return x / y"
   ]
  },
  {
   "cell_type": "markdown",
   "metadata": {},
   "source": [
    "**b)** Con la función anterior, debes manejar las excepciones que levantaste, es decir, cada vez que se levante un error, tu programa debe reconocerlo e imprimir un mensaje expicativo y **no debe caerse**. En caso de que no puedas realizar la operación, puedes terminar con `return None` (o solo usar `return`)."
   ]
  },
  {
   "cell_type": "code",
   "execution_count": null,
   "metadata": {
    "colab": {},
    "colab_type": "code",
    "id": "l_MD-Wgy7GNo"
   },
   "outputs": [],
   "source": [
    "def fraccion(x, y):\n",
    "    # Recuerda utilizar 'raise' y 'try'/'except'\n",
    "    return x / y"
   ]
  },
  {
   "cell_type": "code",
   "execution_count": null,
   "metadata": {},
   "outputs": [],
   "source": [
    "# Código de prueba\n",
    "fraccion(1, 2) # Debería funcionar\n",
    "fraccion(1.3, 2) # Debería fallar\n",
    "fraccion(3, 0) # Debería fallar con otro error"
   ]
  },
  {
   "cell_type": "code",
   "execution_count": null,
   "metadata": {
    "colab": {},
    "colab_type": "code",
    "id": "C6oVvzDN7GNl"
   },
   "outputs": [],
   "source": [
    "#Solución a)\n",
    "def fraccion(x, y):\n",
    "    if type(x) is not int or  type(y) is not int:\n",
    "        raise TypeError('Input no debe ser un string!')\n",
    "    if y == 0:\n",
    "        raise ZeroDivisionError('Denominador no puede ser 0!')\n",
    "    return x / y\n",
    "\n",
    "#Solución b)\n",
    "def fraccion(x, y):\n",
    "    try:\n",
    "        if type(x) is not int or  type(y) is not int:\n",
    "            raise TypeError('Input debe ser un númereo entero!')\n",
    "        if y == 0:\n",
    "            raise ZeroDivisionError('Denominador no puede ser 0!')\n",
    "    except TypeError as error:\n",
    "        print(f'Ha ocurrido un error: {error}')\n",
    "        return #terminamos la funcion\n",
    "    except ZeroDivisionError as error:\n",
    "        print(f'Ha ocurrido un error: {error}')\n",
    "        return #terminamos la funcion\n",
    "    return x / y"
   ]
  },
  {
   "cell_type": "markdown",
   "metadata": {
    "colab_type": "text",
    "id": "eZZTmyg47GNr"
   },
   "source": [
    "### Ejercicio 2.2: Emulando `defaultdicts`"
   ]
  },
  {
   "cell_type": "markdown",
   "metadata": {
    "colab_type": "text",
    "id": "qR74RqOB7GNs"
   },
   "source": [
    "¿Recuerdas los `defaultdicts`? Son estructuras de datos muy similares a los diccionarios, pero tienen una característica muy útil: cuando se intenta acceder a un valor con una *key* que no existe dentro del diccionario, este es capaz de crear un nuevo par para dicha llave donde el valor asociado se crea con la función que le entregamos al crearlo. Un diccionario común y corriente lanzaría una excepción en este caso. Pero ahora que sabemos manejar excepciones, podemos intentar crear nuestro propio `defaultdict`.\n",
    "\n",
    "A continuación se presenta la clase `MiDefaultDict`, la cual hereda de `dict`. Su constructor recibe como parámetros una función `funcion_default`, seguida por los argumentos de esa función `args`. Tu tarea es modificar el método `__getitem__` (que se ejecuta cada vez que se intenta acceder a una llave) de modo que si se llega a levantar una excepción porque la `llave` ingresada no existe, se pueda crear un elemento nuevo desde el mismo método.\n",
    "\n",
    "Para que puedas probar tu creación, se crea una instancia de `MiDefaultDict` llamada `mis_frutas`, y luego una lista con más frutas, algunas de las cuales no están en el diccionario. Se irá accediendo a ellas con `mis_frutas[fruta]`. Si alguna no está en el diccionario, se agrega automáticamente, y se le asigna un entero entre 0 y 10 al azar usando `randint`."
   ]
  },
  {
   "cell_type": "code",
   "execution_count": null,
   "metadata": {
    "colab": {},
    "colab_type": "code",
    "id": "QM4LtRdH7GNs"
   },
   "outputs": [],
   "source": [
    "from random import randint\n",
    "\n",
    "class MiDefaultDict(dict):\n",
    "    \n",
    "    def __init__(self, funcion_default=None, *args):\n",
    "        super().__init__()\n",
    "        self.funcion_default = funcion_default\n",
    "        self.args = args\n",
    "        \n",
    "    def __getitem__(self, llave):\n",
    "        # Este método se llama implicitamente al usar objeto[llave]. El parámetro llave sería lo que va\n",
    "        # dentro de los corchetes.\n",
    "        # Pista: para guardar un par dentro del diccionario que llama la este método, se puede usar:\n",
    "        # self[llave] = valor\n",
    "        # Recuerda usar funcion_default y args para determinar el nuevo valor!\n",
    "        \n",
    "        # Envolver esta línea en un bloque try/except, y manejar la excepción correspondiente\n",
    "        return super().__getitem__(llave)\n",
    "\n",
    "# Crea la instancia del diccionario\n",
    "mis_frutas = MiDefaultDict(randint, 0, 10)\n",
    "\n",
    "# Agrega valores al diccionario\n",
    "mis_frutas.update({\n",
    "    \"Manzana\": 3,\n",
    "    \"Plátano\": 7,\n",
    "    \"Arándanos\": 6,\n",
    "    \"Pera\": 3,\n",
    "    \"Sandía\": 4,\n",
    "    \"Durazno\": 5\n",
    "    })\n",
    "\n",
    "lista_de_frutas = [\"Tomate\", \"Arándanos\", \"Melón\", \"Piña\", \"Sandía\", \"Frutilla\", \"Higo\", \"Pera\", \"Damasco\"]\n",
    "\n",
    "for fruta in lista_de_frutas:\n",
    "    print(f\"{fruta} tiene un rating de {mis_frutas[fruta]}/10!\")\n",
    "    "
   ]
  },
  {
   "cell_type": "code",
   "execution_count": null,
   "metadata": {},
   "outputs": [],
   "source": [
    "# SOLUCIÓN\n",
    "from random import randint\n",
    "\n",
    "class MiDefaultDict(dict):\n",
    "    \n",
    "    def __init__(self, funcion_default=None, *args):\n",
    "        super().__init__()\n",
    "        self.funcion_default = funcion_default\n",
    "        self.args = args\n",
    "        \n",
    "    def __getitem__(self, llave):\n",
    "        # Este método se llama implicitamente al usar objeto[llave]. El parámetro llave sería lo que va\n",
    "        # dentro de los corchetes.\n",
    "        # Pista: para guardar un par dentro del diccionario que llama la este método, se puede usar:\n",
    "        # self[llave] = valor\n",
    "        # Recuerda usar funcion_default y args para determinar el nuevo valor!\n",
    "        \n",
    "        # Envolver esta línea en un bloque try/except, y manejar la excepción correspondiente\n",
    "        try:\n",
    "            return super().__getitem__(llave)\n",
    "        except KeyError as error:\n",
    "            self[llave] = self.funcion_default(*self.args)\n",
    "            return super().__getitem__(llave)\n",
    "\n",
    "# Crea la instancia del diccionario\n",
    "mis_frutas = MiDefaultDict(randint, 0, 10)\n",
    "\n",
    "# Agrega valores al diccionario\n",
    "mis_frutas.update({\n",
    "    \"Manzana\": 3,\n",
    "    \"Plátano\": 7,\n",
    "    \"Arándanos\": 6,\n",
    "    \"Pera\": 3,\n",
    "    \"Sandía\": 4,\n",
    "    \"Durazno\": 5\n",
    "    })\n",
    "\n",
    "lista_de_frutas = [\"Tomate\", \"Arándanos\", \"Melón\", \"Piña\", \"Sandía\", \"Frutilla\", \"Higo\", \"Pera\", \"Damasco\"]\n",
    "\n",
    "for fruta in lista_de_frutas:\n",
    "    print(f\"{fruta} tiene un rating de {mis_frutas[fruta]}/10!\")\n",
    "    "
   ]
  },
  {
   "cell_type": "markdown",
   "metadata": {
    "colab_type": "text",
    "id": "ThKoNJ9I7GNy"
   },
   "source": [
    "### Ejercicio 2.3: Manejo de múltiples excepciones"
   ]
  },
  {
   "cell_type": "markdown",
   "metadata": {
    "colab_type": "text",
    "id": "gO0NR09vtdyN"
   },
   "source": [
    "En este ejercicio te entregamos un programa que debe imprimir 7 países con sus capitales respectivas. Los datos están organizados en una lista de países y un diccionario con sus capitales. Para conectar cada país con su capital, se utiliza un \"id\" en común, donde este corresponde al índice en que se encuentra el país en la lista, que a la vez es la llave del diccionario con las capitales. Un ejemplo se muestra a continuación:\n",
    "\n",
    "```python\n",
    "pais = lista[identificador]\n",
    "capital = diccionario[identificador]\n",
    "```\n",
    "\n",
    "El problema a trabajar es que las estructuras de datos están muy incompletas, por lo que deberás manejar múltiples excepciones para que el programa avise cuando **falta el país**, **falta la capital** o **faltan ambos**.\n",
    "\n",
    "* Si se encuentra la capital y el país imprimir : `\"La capital de {pais} es {capital}\"`.\n",
    "* Si no se encuentra capital, imprimir: `\"Error, no hay registro de la capital de {pais}\"`.\n",
    "* Si no se encuentra al pais, imprimir: `\"Error, no hay registro del pais con capital {capital}\"`.\n",
    "* Si no se encuentran el país ni su capital, imprimir: `\"No hay registro ni del país ni de su capital\"`."
   ]
  },
  {
   "cell_type": "code",
   "execution_count": null,
   "metadata": {
    "colab": {},
    "colab_type": "code",
    "id": "6eJ9YaRBtdyN"
   },
   "outputs": [],
   "source": [
    "diccionario = {0 : 'Santiago', 2 : 'Lima', 3 : 'Montevideo', 4 : 'La Paz'}\n",
    "lista = ['Chile', 'Argentina', 'Peru', 'Uruguay']\n",
    "\n",
    "for i in range (0, 7):\n",
    "    try:\n",
    "        pass\n",
    "    except:\n",
    "        pass\n",
    "    except:\n",
    "        pass"
   ]
  },
  {
   "cell_type": "code",
   "execution_count": null,
   "metadata": {
    "colab": {},
    "colab_type": "code",
    "id": "eD4UuvPfwL5S"
   },
   "outputs": [],
   "source": [
    "#Solución\n",
    "diccionario = {0 : 'Santiago', 2 : 'Lima', 3 : 'Montevideo', 4 : 'La Paz'}\n",
    "lista = ['Chile', 'Argentina', 'Peru', 'Uruguay']\n",
    "\n",
    "for i in range (0, 7):\n",
    "    try:\n",
    "        print(f'La capital de {lista[i]} es {diccionario[i]}')\n",
    "    except KeyError as error1:\n",
    "        try:\n",
    "            print(f\"Error, no hay registro de la capital de {lista[i]}\")\n",
    "        except IndexError as error3:\n",
    "            print('No hay registro ni del país ni de su capital')\n",
    "    except IndexError as error2:\n",
    "        try:\n",
    "            print(f\"Error, no hay registro del pais con capital {diccionario[i]}\")\n",
    "        except KeyError as error4:\n",
    "            print('No hay registro ni del país ni de su capital')"
   ]
  },
  {
   "cell_type": "markdown",
   "metadata": {
    "colab_type": "text",
    "id": "eAgMNwsYtdyM"
   },
   "source": [
    "## Excepciones personalizadas"
   ]
  },
  {
   "cell_type": "markdown",
   "metadata": {
    "colab_type": "text",
    "id": "NBRFODVT7GN7"
   },
   "source": [
    "### Ejercicio 3.1: DCCopiones"
   ]
  },
  {
   "cell_type": "markdown",
   "metadata": {
    "colab_type": "text",
    "id": "8j_XYcXq7GN7"
   },
   "source": [
    "Los alumnos del curso Sistemas Operativos y Redes acaban de entregar sus tareas! Sin embargo, existen sospechas de que algunos alumnos se copiaron entre ellos. Como en el DDC nos tomamos en serio el tema de la copia (espero que hayan leído el [código de honor](https://www.ing.puc.cl/wp-content/uploads/2015/08/cdigo-de-honor.pdf)), debemos penalizar a los alumnos que incurran en esas prácticas. Es por eso que el profesor Cristián Ruz y el cuerpo de ayudantes de SSOO te han delegado la tarea de completar el sistema para detectar casos de copia! Para que se haga más simple tu tarea, los códigos de los alumnos fueron pasados por una función de hashing [SHA-256](https://en.wikipedia.org/wiki/SHA-2) y están guardados dentro de la carpeta `estudiantes`. Tu misión se resume en revisar si existen alumnos que tengan el mismo hash.\n",
    "\n",
    "La clase `Corrector` es la que se encarga de revisar cada alumno, y levanta una excepción `ErrorCopia` cada vez que identifica un caso de copia. Debes crear la clase `ErrorCopia` (que hereda de `Exception` y modela una excepción). Cada instancia de `ErrorCopia` debe contener: el alumno que fue pillado copiando (`estudiante`), el alumno al que le copió (`copion`), el hash que ámbos comparten (`hash_copiado`). Además, debe llevar cuenta de cuantos casos de copia han ocurrido hasta el momento (`casos_de_copia`), y debe tener una estructura de datos que contenga a los alumnos involucrados (`estudiantes_copiones`), en la cual no se repitan los alumnos, si es que más de dos se copiaron entre si.\n"
   ]
  },
  {
   "cell_type": "code",
   "execution_count": null,
   "metadata": {
    "colab": {},
    "colab_type": "code",
    "id": "s9-IEbwd7GN8"
   },
   "outputs": [],
   "source": [
    "# RELEASE\n",
    "import os\n",
    "\n",
    "# Retorna una lista con los estudiantes del curso\n",
    "def get_estudiantes(path):\n",
    "    estudiantes = []\n",
    "    with open(path, \"r\", encoding=\"utf-8\") as archivo:\n",
    "        for line in archivo.readlines():\n",
    "            estudiantes.append(line.strip().split(\",\")[0])\n",
    "    return estudiantes\n",
    "\n",
    "\n",
    "class ErrorCopia(Exception):\n",
    "\n",
    "    # Definir atributos de clase podría ser util...\n",
    "\n",
    "    def __init__(self, estudiante, copion, hash_copiado):\n",
    "        # COMPLETAR\n",
    "        pass\n",
    "\n",
    "\n",
    "class Corrector:\n",
    "\n",
    "    def __init__(self):\n",
    "        self.codigos_comprimidos = self.extract_codigos()\n",
    "        self.estudiantes_revisados = dict()\n",
    "\n",
    "    # Extrae los pares alumnos, código desde codigos_comprimidos.txt\n",
    "    def extract_codigos(self):\n",
    "        codigos_comprimidos = dict()\n",
    "        path_archivo = os.path.join(\"estudiantes\", \"codigos_comprimidos.txt\")\n",
    "        with open(path_archivo, \"r\", encoding=\"utf-8\") as archivo:\n",
    "            for linea in archivo.readlines():\n",
    "                estudiante, hash_estudiante = linea.strip().split(\",\")\n",
    "                codigos_comprimidos[estudiante] = hash_estudiante\n",
    "        return codigos_comprimidos\n",
    "\n",
    "    # Revisa si estudiante copió :o\n",
    "    def revisar(self, estudiante):\n",
    "        hash_estudiante = self.codigos_comprimidos[estudiante]\n",
    "        for estudiante_revisado in self.estudiantes_revisados:\n",
    "            # Se detecta copia :o\n",
    "            if self.estudiantes_revisados[estudiante_revisado] == hash_estudiante:\n",
    "                self.estudiantes_revisados[estudiante] = hash_estudiante\n",
    "                # Aquí se levanta la excepción\n",
    "                raise ErrorCopia(estudiante_revisado, estudiante, hash_estudiante)\n",
    "        self.estudiantes_revisados[estudiante] = hash_estudiante\n",
    "\n",
    "\n",
    "if __name__ == \"__main__\":\n",
    "    lista_estudiantes = get_estudiantes(os.path.join(\"estudiantes\", \"codigos_comprimidos.txt\"))\n",
    "\n",
    "    corrector = Corrector()\n",
    "\n",
    "    for nombre in lista_estudiantes:\n",
    "        try:\n",
    "            corrector.revisar(nombre)\n",
    "        except ErrorCopia as error:\n",
    "            print(f\"Caso de copia encontrado entre {error.estudiante} y {error.copion}!\")\n",
    "            print(f\"Ámbos tienen el hash {error.hash_copiado}\")\n",
    "            print(f\"Ya van {error.casos_de_copia} casos de copia :(\")\n",
    "            print()\n",
    "\n",
    "    if ErrorCopia.estudiantes_copiones:\n",
    "        print(\"Estudiantes que fueron pillados copiando:\")\n",
    "        for estudiante in ErrorCopia.estudiantes_copiones:\n",
    "            print(\"\\t - \" + estudiante)\n",
    "        print(\"Que pena :'(\")\n",
    "    else:\n",
    "        print(\"No hubieron casos de copia! Felicitaciones por la honestidad :)\")"
   ]
  },
  {
   "cell_type": "code",
   "execution_count": null,
   "metadata": {},
   "outputs": [],
   "source": [
    "# SOLUCIÓN\n",
    "import os\n",
    "\n",
    "# Retorna una lista con los estudiantes del curso\n",
    "def get_estudiantes(path):\n",
    "    estudiantes = []\n",
    "    with open(path, \"r\", encoding=\"utf-8\") as archivo:\n",
    "        for line in archivo.readlines():\n",
    "            estudiantes.append(line.strip().split(\",\")[0])\n",
    "    return estudiantes\n",
    "\n",
    "\n",
    "class ErrorCopia(Exception):\n",
    "\n",
    "    casos_de_copia = 0\n",
    "    estudiantes_copiones = set()\n",
    "\n",
    "    def __init__(self, estudiante, copion, hash_copiado):\n",
    "        super().__init__()\n",
    "        self.estudiante = estudiante\n",
    "        self.copion = copion\n",
    "        self.hash_copiado = hash_copiado\n",
    "        ErrorCopia.casos_de_copia += 1\n",
    "        ErrorCopia.estudiantes_copiones.add(self.estudiante)\n",
    "        ErrorCopia.estudiantes_copiones.add(self.copion)\n",
    "\n",
    "\n",
    "class Corrector:\n",
    "\n",
    "    def __init__(self):\n",
    "        self.codigos_comprimidos = self.extract_codigos()\n",
    "        self.estudiantes_revisados = dict()\n",
    "\n",
    "    # Extrae los pares alumnos, código desde codigos_comprimidos.txt\n",
    "    def extract_codigos(self):\n",
    "        codigos_comprimidos = dict()\n",
    "        # REVISAR PATH PARA VERSIÓN FINAL\n",
    "        path_archivo = os.path.join(\"estudiantes\", \"codigos_comprimidos.txt\")\n",
    "        with open(path_archivo, \"r\", encoding=\"utf-8\") as archivo:\n",
    "            for linea in archivo.readlines():\n",
    "                estudiante, hash_estudiante = linea.strip().split(\",\")\n",
    "                codigos_comprimidos[estudiante] = hash_estudiante\n",
    "        return codigos_comprimidos\n",
    "\n",
    "    # Revisa si estudiante copió :o\n",
    "    def revisar(self, estudiante):\n",
    "        hash_estudiante = self.codigos_comprimidos[estudiante]\n",
    "        for estudiante_revisado in self.estudiantes_revisados:\n",
    "            # Se detecta copia :o\n",
    "            if self.estudiantes_revisados[estudiante_revisado] == hash_estudiante:\n",
    "                self.estudiantes_revisados[estudiante] = hash_estudiante\n",
    "                # Aquí se levanta la excepción\n",
    "                raise ErrorCopia(estudiante_revisado, estudiante, hash_estudiante)\n",
    "        self.estudiantes_revisados[estudiante] = hash_estudiante\n",
    "\n",
    "\n",
    "if __name__ == \"__main__\":\n",
    "    # REVISAR PATH PARA VERSIÓN FINAL\n",
    "    lista_estudiantes = get_estudiantes(os.path.join(\"estudiantes\", \"codigos_comprimidos.txt\"))\n",
    "\n",
    "    corrector = Corrector()\n",
    "\n",
    "    for nombre in lista_estudiantes:\n",
    "        try:\n",
    "            corrector.revisar(nombre)\n",
    "        except ErrorCopia as error:\n",
    "            print(f\"Caso de copia encontrado entre {error.estudiante} y {error.copion}!\")\n",
    "            print(f\"Ámbos tienen el hash {error.hash_copiado}\")\n",
    "            print(f\"Ya van {error.casos_de_copia} casos de copia :(\")\n",
    "            print()\n",
    "\n",
    "    if ErrorCopia.estudiantes_copiones:\n",
    "        print(\"Estudiantes que fueron pillados copiando:\")\n",
    "        for estudiante in ErrorCopia.estudiantes_copiones:\n",
    "            print(\"\\t - \" + estudiante)\n",
    "        print(\"Que pena :'(\")\n",
    "    else:\n",
    "        print(\"No hubieron casos de copia! Felicitaciones por la honestidad :)\")\n"
   ]
  }
 ],
 "metadata": {
  "colab": {
   "collapsed_sections": [],
   "name": "ejercicios_propuestos.ipynb",
   "provenance": []
  },
  "kernelspec": {
   "display_name": "Python 3",
   "language": "python",
   "name": "python3"
  },
  "language_info": {
   "codemirror_mode": {
    "name": "ipython",
    "version": 3
   },
   "file_extension": ".py",
   "mimetype": "text/x-python",
   "name": "python",
   "nbconvert_exporter": "python",
   "pygments_lexer": "ipython3",
   "version": "3.7.6"
  }
 },
 "nbformat": 4,
 "nbformat_minor": 1
}
